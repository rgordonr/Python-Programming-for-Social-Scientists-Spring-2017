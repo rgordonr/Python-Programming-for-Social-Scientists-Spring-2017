{
 "cells": [
  {
   "cell_type": "markdown",
   "metadata": {},
   "source": [
    "# Day Two Review\n",
    "\n",
    "In our second workshop, we reviewed previous content as well as covered:\n",
    "\n",
    "1. Jupyter Notebooks\n",
    "2. Loops"
   ]
  },
  {
   "cell_type": "markdown",
   "metadata": {},
   "source": [
    "## 1. Jupyter Notebooks"
   ]
  },
  {
   "cell_type": "markdown",
   "metadata": {},
   "source": [
    "Rather than running our code through IDLE, we have now started using Jupter Notebooks to run and document our code.\n",
    "\n",
    "To launch a Jupyter Notebook in Windows:\n",
    "\n",
    "- Launch the Anaconda Prompt\n",
    "- Set your current directory (e.g., cd C:\\Users\\rgrin\\Box Sync\\Python Course)\n",
    "- Type: jupyter notebook\n",
    "- You will now see all files in the location you set as your current directory. You can open previously created notebooks (which end in .ipynb) or create a new notebook by selecting \"New\" in the top right of the screen, then selecting \"Python\" under Notebooks.\n",
    "\n",
    "To launch a Jupyter Notebook in iOS:\n",
    "\n",
    "- Click Go, click Utilities, then click Terminal\n",
    "- Set your current directory (e.g., cd ~/documents)\n",
    "- Type: jupyter notebook\n",
    "- Create and open jupyter notebooks the same as windows users"
   ]
  },
  {
   "cell_type": "markdown",
   "metadata": {},
   "source": [
    "When running python code in a Jupyter Notebook, remember that you need to hold down Shift + Enter\n",
    "\n",
    "You can find out more about Jupyter Notebooks here: https://jupyter-notebook-beginner-guide.readthedocs.io/en/latest/what_is_jupyter.html"
   ]
  },
  {
   "cell_type": "markdown",
   "metadata": {},
   "source": [
    "## 2. Loops"
   ]
  },
  {
   "cell_type": "markdown",
   "metadata": {},
   "source": [
    "## The for Loop\n",
    "\n",
    "The for loop steps through each item in an iterable object (e.g., strings, lists, tuples, and so on). On each step, the indented block of code will execute. The assignment target is an arbitrarily named variable (in the example below, it's labeled \"i\") referring to the current step item. For example:"
   ]
  },
  {
   "cell_type": "code",
   "execution_count": 2,
   "metadata": {
    "collapsed": false
   },
   "outputs": [
    {
     "name": "stdout",
     "output_type": "stream",
     "text": [
      "1\n",
      "2\n",
      "3\n"
     ]
    }
   ],
   "source": [
    "l = [1,2,3]\n",
    "\n",
    "for i in l:\n",
    "    print(i)"
   ]
  },
  {
   "cell_type": "markdown",
   "metadata": {},
   "source": [
    "In the above example, the for loop steps through each item in the list l, and each step corresponds to one of the three numbers in list l. Printing the variable i prints the number corresponding to the current step in the loop."
   ]
  },
  {
   "cell_type": "markdown",
   "metadata": {},
   "source": [
    "You can embed if statements in loops. For example:"
   ]
  },
  {
   "cell_type": "code",
   "execution_count": 4,
   "metadata": {
    "collapsed": false
   },
   "outputs": [
    {
     "name": "stdout",
     "output_type": "stream",
     "text": [
      "Hello\n",
      "Hello\n",
      "4\n",
      "5\n"
     ]
    }
   ],
   "source": [
    "x = [2,3,4,5]\n",
    "\n",
    "for s in x:\n",
    "    if s > 3:\n",
    "        print(s)\n",
    "    else:\n",
    "        print(\"Hello\")"
   ]
  },
  {
   "cell_type": "markdown",
   "metadata": {},
   "source": [
    "You can find out more here: https://docs.python.org/3/tutorial/controlflow.html#for-statements"
   ]
  },
  {
   "cell_type": "markdown",
   "metadata": {},
   "source": [
    "## The while Loop\n",
    "\n",
    "Another way to write loops is to have them execute as long as an evaluation comes out as true."
   ]
  },
  {
   "cell_type": "code",
   "execution_count": 5,
   "metadata": {
    "collapsed": false
   },
   "outputs": [
    {
     "name": "stdout",
     "output_type": "stream",
     "text": [
      "Hello\n",
      "Hello\n",
      "Hello\n",
      "Hello\n",
      "Hello\n"
     ]
    }
   ],
   "source": [
    "x = 0\n",
    "\n",
    "while x < 5:\n",
    "    print(\"Hello\")\n",
    "    x = x + 1"
   ]
  },
  {
   "cell_type": "markdown",
   "metadata": {},
   "source": [
    "You can find out more here: https://docs.python.org/3/reference/compound_stmts.html#while"
   ]
  },
  {
   "cell_type": "code",
   "execution_count": null,
   "metadata": {
    "collapsed": true
   },
   "outputs": [],
   "source": []
  }
 ],
 "metadata": {
  "anaconda-cloud": {},
  "kernelspec": {
   "display_name": "Python [default]",
   "language": "python",
   "name": "python3"
  },
  "language_info": {
   "codemirror_mode": {
    "name": "ipython",
    "version": 3
   },
   "file_extension": ".py",
   "mimetype": "text/x-python",
   "name": "python",
   "nbconvert_exporter": "python",
   "pygments_lexer": "ipython3",
   "version": "3.5.2"
  }
 },
 "nbformat": 4,
 "nbformat_minor": 1
}
